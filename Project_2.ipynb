{
 "cells": [
  {
   "cell_type": "markdown",
   "id": "2df35083",
   "metadata": {},
   "source": [
    "# Project 2: UFO Sightings in Wyoming and Yellowstone National Park Visitation\n",
    "\n",
    "## Group 4: Jacob Douthett and Sam Espe"
   ]
  },
  {
   "cell_type": "markdown",
   "id": "31283256",
   "metadata": {},
   "source": [
    "### Overview\n",
    "\n",
    "The goal of this project is to practice implementing the Extract-Transform-Load (ETL) process. We chose to use data on reports of UFO sightings (https://www.kaggle.com/datasets/NUFORC/ufo-sightings?resource=download) and the yearly visitor count at Yellowstone National Park in Wyoming (https://data.world/nps/yellowstone-np). We limited the UFO sightings to those within the state of Wyoming to create a comparable data set. To perform the ETL process, we used Pandas in a Jupyter Notebook, PostgreSQL as the database framework, and modules from SQLAlchemy to connect the two entities. "
   ]
  },
  {
   "cell_type": "markdown",
   "id": "5dba8555",
   "metadata": {},
   "source": [
    "### Extract"
   ]
  },
  {
   "cell_type": "markdown",
   "id": "5d521b12",
   "metadata": {},
   "source": [
    "We start by importing the dependencies we need to complete the project. We start by importing the Pandas library| (using the common alias `pd`), as this will be our main tool to reduce, clean, and reorganize our data to load into our database. We also import `create_engine` and `inspect` from SQLAlchemy, as we will need these methods to communicate with our PostgreSQL database. Finally, we import information from the `config.py` file to construct the connection string."
   ]
  },
  {
   "cell_type": "code",
   "execution_count": 1,
   "id": "c11c218a",
   "metadata": {},
   "outputs": [],
   "source": [
    "# Import dependencies\n",
    "\n",
    "import pandas as pd\n",
    "from sqlalchemy import create_engine, inspect\n",
    "from config import postgres_db_name, postgres_password, postgres_port, postgres_host"
   ]
  },
  {
   "cell_type": "markdown",
   "id": "ac2516c4",
   "metadata": {},
   "source": [
    "Next, we use Pandas to read the data from the CSV files (located in the `Resources` folder) into dataframes. The UFO data is loaded into `ufo_df` and the Yellowstone National Park visitation data is loaded into `yellowstone_df`. We used `.head()` on each dataframe to preview the data, and to verify that it loaded correctly. \n",
    "\n",
    "The Jupyter Notebook returns a warning for the UFO dataframe that columns 5 and 9 have mixed data types. Column 9 (`latitude`) is not data that we are interested in for the final database, so the mixed data type is irrelevant. Column 5 (`duration (seconds)`) will be part of the final database, and we address the data type mismatch later in the notebook."
   ]
  },
  {
   "cell_type": "code",
   "execution_count": 2,
   "id": "1a9978c7",
   "metadata": {},
   "outputs": [
    {
     "name": "stderr",
     "output_type": "stream",
     "text": [
      "C:\\Users\\itssm\\AppData\\Local\\Temp\\ipykernel_22096\\911020618.py:4: DtypeWarning: Columns (5,9) have mixed types. Specify dtype option on import or set low_memory=False.\n",
      "  ufo_df = pd.read_csv(ufo_file)\n"
     ]
    },
    {
     "data": {
      "text/html": [
       "<div>\n",
       "<style scoped>\n",
       "    .dataframe tbody tr th:only-of-type {\n",
       "        vertical-align: middle;\n",
       "    }\n",
       "\n",
       "    .dataframe tbody tr th {\n",
       "        vertical-align: top;\n",
       "    }\n",
       "\n",
       "    .dataframe thead th {\n",
       "        text-align: right;\n",
       "    }\n",
       "</style>\n",
       "<table border=\"1\" class=\"dataframe\">\n",
       "  <thead>\n",
       "    <tr style=\"text-align: right;\">\n",
       "      <th></th>\n",
       "      <th>datetime</th>\n",
       "      <th>city</th>\n",
       "      <th>state</th>\n",
       "      <th>country</th>\n",
       "      <th>shape</th>\n",
       "      <th>duration (seconds)</th>\n",
       "      <th>duration (hours/min)</th>\n",
       "      <th>comments</th>\n",
       "      <th>date posted</th>\n",
       "      <th>latitude</th>\n",
       "      <th>longitude</th>\n",
       "    </tr>\n",
       "  </thead>\n",
       "  <tbody>\n",
       "    <tr>\n",
       "      <th>0</th>\n",
       "      <td>10/10/1949 20:30</td>\n",
       "      <td>san marcos</td>\n",
       "      <td>tx</td>\n",
       "      <td>us</td>\n",
       "      <td>cylinder</td>\n",
       "      <td>2700</td>\n",
       "      <td>45 minutes</td>\n",
       "      <td>This event took place in early fall around 194...</td>\n",
       "      <td>4/27/2004</td>\n",
       "      <td>29.8830556</td>\n",
       "      <td>-97.941111</td>\n",
       "    </tr>\n",
       "    <tr>\n",
       "      <th>1</th>\n",
       "      <td>10/10/1949 21:00</td>\n",
       "      <td>lackland afb</td>\n",
       "      <td>tx</td>\n",
       "      <td>NaN</td>\n",
       "      <td>light</td>\n",
       "      <td>7200</td>\n",
       "      <td>1-2 hrs</td>\n",
       "      <td>1949 Lackland AFB&amp;#44 TX.  Lights racing acros...</td>\n",
       "      <td>12/16/2005</td>\n",
       "      <td>29.38421</td>\n",
       "      <td>-98.581082</td>\n",
       "    </tr>\n",
       "    <tr>\n",
       "      <th>2</th>\n",
       "      <td>10/10/1955 17:00</td>\n",
       "      <td>chester (uk/england)</td>\n",
       "      <td>NaN</td>\n",
       "      <td>gb</td>\n",
       "      <td>circle</td>\n",
       "      <td>20</td>\n",
       "      <td>20 seconds</td>\n",
       "      <td>Green/Orange circular disc over Chester&amp;#44 En...</td>\n",
       "      <td>1/21/2008</td>\n",
       "      <td>53.2</td>\n",
       "      <td>-2.916667</td>\n",
       "    </tr>\n",
       "    <tr>\n",
       "      <th>3</th>\n",
       "      <td>10/10/1956 21:00</td>\n",
       "      <td>edna</td>\n",
       "      <td>tx</td>\n",
       "      <td>us</td>\n",
       "      <td>circle</td>\n",
       "      <td>20</td>\n",
       "      <td>1/2 hour</td>\n",
       "      <td>My older brother and twin sister were leaving ...</td>\n",
       "      <td>1/17/2004</td>\n",
       "      <td>28.9783333</td>\n",
       "      <td>-96.645833</td>\n",
       "    </tr>\n",
       "    <tr>\n",
       "      <th>4</th>\n",
       "      <td>10/10/1960 20:00</td>\n",
       "      <td>kaneohe</td>\n",
       "      <td>hi</td>\n",
       "      <td>us</td>\n",
       "      <td>light</td>\n",
       "      <td>900</td>\n",
       "      <td>15 minutes</td>\n",
       "      <td>AS a Marine 1st Lt. flying an FJ4B fighter/att...</td>\n",
       "      <td>1/22/2004</td>\n",
       "      <td>21.4180556</td>\n",
       "      <td>-157.803611</td>\n",
       "    </tr>\n",
       "  </tbody>\n",
       "</table>\n",
       "</div>"
      ],
      "text/plain": [
       "           datetime                  city state country     shape  \\\n",
       "0  10/10/1949 20:30            san marcos    tx      us  cylinder   \n",
       "1  10/10/1949 21:00          lackland afb    tx     NaN     light   \n",
       "2  10/10/1955 17:00  chester (uk/england)   NaN      gb    circle   \n",
       "3  10/10/1956 21:00                  edna    tx      us    circle   \n",
       "4  10/10/1960 20:00               kaneohe    hi      us     light   \n",
       "\n",
       "  duration (seconds) duration (hours/min)  \\\n",
       "0               2700           45 minutes   \n",
       "1               7200              1-2 hrs   \n",
       "2                 20           20 seconds   \n",
       "3                 20             1/2 hour   \n",
       "4                900           15 minutes   \n",
       "\n",
       "                                            comments date posted    latitude  \\\n",
       "0  This event took place in early fall around 194...   4/27/2004  29.8830556   \n",
       "1  1949 Lackland AFB&#44 TX.  Lights racing acros...  12/16/2005    29.38421   \n",
       "2  Green/Orange circular disc over Chester&#44 En...   1/21/2008        53.2   \n",
       "3  My older brother and twin sister were leaving ...   1/17/2004  28.9783333   \n",
       "4  AS a Marine 1st Lt. flying an FJ4B fighter/att...   1/22/2004  21.4180556   \n",
       "\n",
       "   longitude   \n",
       "0  -97.941111  \n",
       "1  -98.581082  \n",
       "2   -2.916667  \n",
       "3  -96.645833  \n",
       "4 -157.803611  "
      ]
     },
     "execution_count": 2,
     "metadata": {},
     "output_type": "execute_result"
    }
   ],
   "source": [
    "# Extract data into dataframes\n",
    "\n",
    "ufo_file = \"Resources/ufo_data_scrubbed.csv\"\n",
    "ufo_df = pd.read_csv(ufo_file)\n",
    "\n",
    "ufo_df.head()"
   ]
  },
  {
   "cell_type": "code",
   "execution_count": 3,
   "id": "f853e0e1",
   "metadata": {},
   "outputs": [
    {
     "data": {
      "text/html": [
       "<div>\n",
       "<style scoped>\n",
       "    .dataframe tbody tr th:only-of-type {\n",
       "        vertical-align: middle;\n",
       "    }\n",
       "\n",
       "    .dataframe tbody tr th {\n",
       "        vertical-align: top;\n",
       "    }\n",
       "\n",
       "    .dataframe thead th {\n",
       "        text-align: right;\n",
       "    }\n",
       "</style>\n",
       "<table border=\"1\" class=\"dataframe\">\n",
       "  <thead>\n",
       "    <tr style=\"text-align: right;\">\n",
       "      <th></th>\n",
       "      <th>year</th>\n",
       "      <th>recreationvisitors</th>\n",
       "      <th>totalrecreationvisitors</th>\n",
       "    </tr>\n",
       "  </thead>\n",
       "  <tbody>\n",
       "    <tr>\n",
       "      <th>0</th>\n",
       "      <td>1904</td>\n",
       "      <td>13,727</td>\n",
       "      <td>183,271,650</td>\n",
       "    </tr>\n",
       "    <tr>\n",
       "      <th>1</th>\n",
       "      <td>1905</td>\n",
       "      <td>26,188</td>\n",
       "      <td>183,271,650</td>\n",
       "    </tr>\n",
       "    <tr>\n",
       "      <th>2</th>\n",
       "      <td>1906</td>\n",
       "      <td>17,182</td>\n",
       "      <td>183,271,650</td>\n",
       "    </tr>\n",
       "    <tr>\n",
       "      <th>3</th>\n",
       "      <td>1907</td>\n",
       "      <td>16,414</td>\n",
       "      <td>183,271,650</td>\n",
       "    </tr>\n",
       "    <tr>\n",
       "      <th>4</th>\n",
       "      <td>1908</td>\n",
       "      <td>19,542</td>\n",
       "      <td>183,271,650</td>\n",
       "    </tr>\n",
       "  </tbody>\n",
       "</table>\n",
       "</div>"
      ],
      "text/plain": [
       "   year recreationvisitors totalrecreationvisitors\n",
       "0  1904             13,727             183,271,650\n",
       "1  1905             26,188             183,271,650\n",
       "2  1906             17,182             183,271,650\n",
       "3  1907             16,414             183,271,650\n",
       "4  1908             19,542             183,271,650"
      ]
     },
     "execution_count": 3,
     "metadata": {},
     "output_type": "execute_result"
    }
   ],
   "source": [
    "yellowstone_file = \"Resources/Yellowstone_Annual_Park_Recreation_Visitation_1904-2018.csv\"\n",
    "yellowstone_df = pd.read_csv(yellowstone_file)\n",
    "\n",
    "yellowstone_df.head()"
   ]
  },
  {
   "cell_type": "markdown",
   "id": "38abb8fa",
   "metadata": {},
   "source": [
    "### Transform"
   ]
  },
  {
   "cell_type": "markdown",
   "id": "c81a0299",
   "metadata": {},
   "source": [
    "Our next step is to transform the data. For the UFO data, we want to end up with a dataframe of complete entries (no NaNs) that only contains UFO reports from Wyoming, USA. For the Yellowstone National Park visitation data, we want to end up with a database that contains years and the corresponding number of visitors for that year.\n",
    "\n",
    "The UFO data set requires more work to refine it, so we start with that."
   ]
  },
  {
   "cell_type": "markdown",
   "id": "af167c17",
   "metadata": {},
   "source": [
    "#### Transform UFO data"
   ]
  },
  {
   "cell_type": "markdown",
   "id": "1e3c6bba",
   "metadata": {},
   "source": [
    "We start by removing any entries from the worldwide data set that contain any NaN values. This will ensure that our end product contains complete data for each report. "
   ]
  },
  {
   "cell_type": "code",
   "execution_count": 4,
   "id": "d6bc6a81",
   "metadata": {},
   "outputs": [],
   "source": [
    "# Drop entries that have NaN values\n",
    "\n",
    "ufo_no_nan_states = ufo_df.dropna(axis=0, how='any')"
   ]
  },
  {
   "cell_type": "markdown",
   "id": "6bbca6a5",
   "metadata": {},
   "source": [
    "We are only interested in reports that come from Wyoming, so that we can compare the frequency of UFO reports in Wyoming to the visitor counts to Yellowstone National Park, located in Wyoming. The data set abbreviates Wyoming to 'wy', so we use Pandas to filter the dataframe to only include reports where the state is 'wy'. "
   ]
  },
  {
   "cell_type": "code",
   "execution_count": 5,
   "id": "1061e9d5",
   "metadata": {},
   "outputs": [],
   "source": [
    "# Filter UFO dataframe to include only entries from Wyoming\n",
    "\n",
    "ufos_wyoming_df = ufo_no_nan_states[ufo_no_nan_states[\"state\"].str.contains(\"wy\")]"
   ]
  },
  {
   "cell_type": "markdown",
   "id": "28df0da4",
   "metadata": {},
   "source": [
    "In working with the data within the `datetime` column, we discovered that two records had invalid datetimes, which prevented us from continuing. The problem with both entries was that the time was recorded as \"24:00\". Pandas only recognizes hours from 0 to 23, and that caused the code not to work. We made the decision to remove the two offending records, since it seemed improper to edit the data itself."
   ]
  },
  {
   "cell_type": "code",
   "execution_count": 6,
   "id": "2d564a14",
   "metadata": {},
   "outputs": [],
   "source": [
    "# Dropping indices #6496 and #37861 because the datetime objects are invalid\n",
    "\n",
    "ufos_wyoming_df = ufos_wyoming_df.drop(index=6496)\n",
    "ufos_wyoming_df = ufos_wyoming_df.drop(index=37861)"
   ]
  },
  {
   "cell_type": "markdown",
   "id": "bdba5406",
   "metadata": {},
   "source": [
    "To compare the UFO reports to the Yellowstone National Park visitation data, we created a new column that contained the year of the UFO sighting report. This way, an analyst could easily correlate reports to the visitation data of that year."
   ]
  },
  {
   "cell_type": "code",
   "execution_count": 7,
   "id": "7f3741a8",
   "metadata": {},
   "outputs": [],
   "source": [
    "# Extract year from datetime object, save it to its own series\n",
    "\n",
    "ufos_wyoming_df['year'] = pd.DatetimeIndex(ufos_wyoming_df['datetime']).year"
   ]
  },
  {
   "cell_type": "markdown",
   "id": "49dc0364",
   "metadata": {},
   "source": [
    "For the final database, we did not want to include all of the data for each entry that the original data set provided. We decided only to include the year of the report, the city and state of the sighting, the duration of the event in seconds, the shape of the UFO, and the observer's comments. To obtain a dataframe with only the desired information, we dropped the rest of the columns."
   ]
  },
  {
   "cell_type": "code",
   "execution_count": 8,
   "id": "79ae441b",
   "metadata": {},
   "outputs": [],
   "source": [
    "# Filter columns of UFO dataframe to include only: Year, City, State, Duration (seconds), Shape, and Comments\n",
    "\n",
    "ufos_wy_for_db = ufos_wyoming_df.copy()\n",
    "\n",
    "ufos_wy_for_db = ufos_wy_for_db.drop(labels=[\"datetime\", \"country\", \"duration (hours/min)\", \"date posted\", \"latitude\", \"longitude \"], axis = 1)"
   ]
  },
  {
   "cell_type": "markdown",
   "id": "0227213c",
   "metadata": {},
   "source": [
    "We renamed some of the columns to clarify their meaning as well as to make them conform to proper naming conventions."
   ]
  },
  {
   "cell_type": "code",
   "execution_count": 9,
   "id": "6c3343b7",
   "metadata": {},
   "outputs": [],
   "source": [
    "# Rename columns\n",
    "\n",
    "ufos_wy_for_db = ufos_wy_for_db.rename(columns={\"duration (seconds)\":\"duration_seconds\", \"shape\":\"ufo_shape\", \"comments\":\"sighting_description\"})"
   ]
  },
  {
   "cell_type": "markdown",
   "id": "09d31bcb",
   "metadata": {},
   "source": [
    "Here, we fix the data type of the `duration_seconds` column. There was originally a combination of integers and floating point numbers. We cast all of the data in the column as floating point numbers, so we did not lose any of the original information."
   ]
  },
  {
   "cell_type": "code",
   "execution_count": 10,
   "id": "a9f6bce5",
   "metadata": {},
   "outputs": [],
   "source": [
    "# Fix duration data type — make the whole series floating points instead of strings.\n",
    "\n",
    "ufos_wy_for_db.duration_seconds = ufos_wy_for_db.duration_seconds.astype(float)"
   ]
  },
  {
   "cell_type": "markdown",
   "id": "0efdbc91",
   "metadata": {},
   "source": [
    "#### Transform Yellowstone Data"
   ]
  },
  {
   "cell_type": "code",
   "execution_count": 11,
   "id": "569dad60",
   "metadata": {},
   "outputs": [],
   "source": [
    "# Filter columns of Yellowstone dataframe to include only Year and Recreation Visitors\n",
    "\n",
    "yellowstone_df = yellowstone_df.drop(labels = \"totalrecreationvisitors\", axis = 1)"
   ]
  },
  {
   "cell_type": "code",
   "execution_count": 12,
   "id": "d61810e2",
   "metadata": {},
   "outputs": [],
   "source": [
    "# Rename recreationvisitors column\n",
    "\n",
    "yellowstone_df = yellowstone_df.rename(columns={\"recreationvisitors\":\"visitor_count\"})"
   ]
  },
  {
   "cell_type": "code",
   "execution_count": 13,
   "id": "7793b921",
   "metadata": {},
   "outputs": [],
   "source": [
    "# Remove commas from visitor_counts so we can turn into integer\n",
    "\n",
    "yellowstone_df.visitor_count = yellowstone_df.visitor_count.str.replace(\",\", \"\")"
   ]
  },
  {
   "cell_type": "code",
   "execution_count": 14,
   "id": "07c52319",
   "metadata": {},
   "outputs": [],
   "source": [
    "# Change data type of visitor_count column from string to integer\n",
    "\n",
    "yellowstone_df.visitor_count = yellowstone_df.visitor_count.astype(int)"
   ]
  },
  {
   "cell_type": "markdown",
   "id": "884ad5f0",
   "metadata": {},
   "source": [
    "### Load"
   ]
  },
  {
   "cell_type": "markdown",
   "id": "333409ea",
   "metadata": {},
   "source": [
    "#### Connect to PostgreSQL database"
   ]
  },
  {
   "cell_type": "code",
   "execution_count": 15,
   "id": "1bbf6d2f",
   "metadata": {},
   "outputs": [],
   "source": [
    "# Save data from config.py as variables to use in connection string\n",
    "password = postgres_password\n",
    "port = postgres_port\n",
    "host = postgres_host\n",
    "db_name = postgres_db_name"
   ]
  },
  {
   "cell_type": "code",
   "execution_count": 16,
   "id": "0e95972a",
   "metadata": {},
   "outputs": [],
   "source": [
    "# Create connection string\n",
    "conn_string = f\"postgresql://postgres:{password}@{host}:{port}/{db_name}\"\n",
    "\n",
    "engine = create_engine(conn_string)"
   ]
  },
  {
   "cell_type": "code",
   "execution_count": 17,
   "id": "653e8e09",
   "metadata": {},
   "outputs": [
    {
     "data": {
      "text/plain": [
       "['yellowstone', 'ufo_sightings']"
      ]
     },
     "execution_count": 17,
     "metadata": {},
     "output_type": "execute_result"
    }
   ],
   "source": [
    "# Confirm that the connection works\n",
    "inspector = inspect(engine)\n",
    "\n",
    "inspector.get_table_names()"
   ]
  },
  {
   "cell_type": "markdown",
   "id": "35ea7080",
   "metadata": {},
   "source": [
    "#### Load UFO data into SQL database"
   ]
  },
  {
   "cell_type": "code",
   "execution_count": 18,
   "id": "b37e6c2a",
   "metadata": {},
   "outputs": [
    {
     "data": {
      "text/plain": [
       "167"
      ]
     },
     "execution_count": 18,
     "metadata": {},
     "output_type": "execute_result"
    }
   ],
   "source": [
    "ufos_wy_for_db.to_sql(name = \"ufo_sightings\", con = engine, if_exists = \"append\", index = False)"
   ]
  },
  {
   "cell_type": "markdown",
   "id": "097e8624",
   "metadata": {},
   "source": [
    "#### Load Yellowstone data into SQL database"
   ]
  },
  {
   "cell_type": "code",
   "execution_count": null,
   "id": "bfb1f6d2",
   "metadata": {},
   "outputs": [],
   "source": [
    "yellowstone_df.to_sql(name = \"yellowstone\", con = engine, if_exists = \"append\", index = False)"
   ]
  },
  {
   "cell_type": "code",
   "execution_count": null,
   "id": "dbae412c",
   "metadata": {},
   "outputs": [],
   "source": []
  }
 ],
 "metadata": {
  "kernelspec": {
   "display_name": "Python 3 (ipykernel)",
   "language": "python",
   "name": "python3"
  },
  "language_info": {
   "codemirror_mode": {
    "name": "ipython",
    "version": 3
   },
   "file_extension": ".py",
   "mimetype": "text/x-python",
   "name": "python",
   "nbconvert_exporter": "python",
   "pygments_lexer": "ipython3",
   "version": "3.8.13"
  }
 },
 "nbformat": 4,
 "nbformat_minor": 5
}
